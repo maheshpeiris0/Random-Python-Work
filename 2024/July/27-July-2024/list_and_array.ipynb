{
 "cells": [
  {
   "cell_type": "code",
   "execution_count": 4,
   "metadata": {},
   "outputs": [
    {
     "name": "stdout",
     "output_type": "stream",
     "text": [
      "['date', 'banana', 'apple', 'cherry']\n"
     ]
    }
   ],
   "source": [
    "my_list = ['apple', 'banana', 'cherry', 'date']\n",
    "indices = [2, 1, 3, 0]  # Desired order of indices\n",
    "\n",
    "sorted_list = [x for _, x in sorted(zip(indices, my_list))]\n",
    "print(sorted_list)  # Output: ['date', 'banana', 'apple', 'cherry']\n"
   ]
  },
  {
   "cell_type": "code",
   "execution_count": 5,
   "metadata": {},
   "outputs": [],
   "source": [
    "sorted_list = [x for _, x in sorted(zip(indices, my_list))]"
   ]
  },
  {
   "cell_type": "code",
   "execution_count": 8,
   "metadata": {},
   "outputs": [],
   "source": [
    "new_sored_list = [x for _, x in sorted(zip(indices, sorted_list))]"
   ]
  },
  {
   "cell_type": "code",
   "execution_count": 7,
   "metadata": {},
   "outputs": [
    {
     "data": {
      "text/plain": [
       "['date', 'banana', 'apple', 'cherry']"
      ]
     },
     "execution_count": 7,
     "metadata": {},
     "output_type": "execute_result"
    }
   ],
   "source": [
    "sorted_list"
   ]
  },
  {
   "cell_type": "code",
   "execution_count": 6,
   "metadata": {},
   "outputs": [
    {
     "data": {
      "text/plain": [
       "[(0, 'date'), (1, 'banana'), (2, 'apple'), (3, 'cherry')]"
      ]
     },
     "execution_count": 6,
     "metadata": {},
     "output_type": "execute_result"
    }
   ],
   "source": [
    "sorted(zip(indices, my_list))"
   ]
  },
  {
   "cell_type": "code",
   "execution_count": 9,
   "metadata": {},
   "outputs": [
    {
     "name": "stdout",
     "output_type": "stream",
     "text": [
      "Original DataFrame:\n",
      "   Ref_ID Company_Name File_Name Shareable_Link\n",
      "0       1     CompanyA     file1          link1\n",
      "1       1     CompanyA     file2          link2\n",
      "2       2     CompanyB     file3          link3\n",
      "3       2     CompanyB     file4          link4\n",
      "4       3     CompanyC     file5          link5\n"
     ]
    }
   ],
   "source": [
    "import pandas as pd\n",
    "\n",
    "data = {\n",
    "    'Ref_ID': [1, 1, 2, 2, 3],\n",
    "    'Company_Name': ['CompanyA', 'CompanyA', 'CompanyB', 'CompanyB', 'CompanyC'],\n",
    "    'File_Name': ['file1', 'file2', 'file3', 'file4', 'file5'],\n",
    "    'Shareable_Link': ['link1', 'link2', 'link3', 'link4', 'link5']\n",
    "}\n",
    "\n",
    "df = pd.DataFrame(data)\n",
    "print(\"Original DataFrame:\")\n",
    "print(df)\n",
    "\n",
    "\n"
   ]
  },
  {
   "cell_type": "code",
   "execution_count": 13,
   "metadata": {},
   "outputs": [
    {
     "data": {
      "text/html": [
       "<div>\n",
       "<style scoped>\n",
       "    .dataframe tbody tr th:only-of-type {\n",
       "        vertical-align: middle;\n",
       "    }\n",
       "\n",
       "    .dataframe tbody tr th {\n",
       "        vertical-align: top;\n",
       "    }\n",
       "\n",
       "    .dataframe thead th {\n",
       "        text-align: right;\n",
       "    }\n",
       "</style>\n",
       "<table border=\"1\" class=\"dataframe\">\n",
       "  <thead>\n",
       "    <tr style=\"text-align: right;\">\n",
       "      <th></th>\n",
       "      <th>Ref_ID</th>\n",
       "      <th>Company_Name</th>\n",
       "      <th>File_Name</th>\n",
       "      <th>Shareable_Link</th>\n",
       "    </tr>\n",
       "  </thead>\n",
       "  <tbody>\n",
       "    <tr>\n",
       "      <th>0</th>\n",
       "      <td>1</td>\n",
       "      <td>CompanyA</td>\n",
       "      <td>file1,file2</td>\n",
       "      <td>link1,link2</td>\n",
       "    </tr>\n",
       "    <tr>\n",
       "      <th>1</th>\n",
       "      <td>2</td>\n",
       "      <td>CompanyB</td>\n",
       "      <td>file3,file4</td>\n",
       "      <td>link3,link4</td>\n",
       "    </tr>\n",
       "    <tr>\n",
       "      <th>2</th>\n",
       "      <td>3</td>\n",
       "      <td>CompanyC</td>\n",
       "      <td>file5</td>\n",
       "      <td>link5</td>\n",
       "    </tr>\n",
       "  </tbody>\n",
       "</table>\n",
       "</div>"
      ],
      "text/plain": [
       "   Ref_ID Company_Name    File_Name Shareable_Link\n",
       "0       1     CompanyA  file1,file2    link1,link2\n",
       "1       2     CompanyB  file3,file4    link3,link4\n",
       "2       3     CompanyC        file5          link5"
      ]
     },
     "execution_count": 13,
     "metadata": {},
     "output_type": "execute_result"
    }
   ],
   "source": [
    "final_df = df.groupby(['Ref_ID','Company_Name']).agg({\n",
    "    'File_Name': lambda x:','.join(x), \n",
    "    'Shareable_Link': lambda x: ','.join(x)\n",
    "}).reset_index()\n",
    "final_df"
   ]
  },
  {
   "cell_type": "code",
   "execution_count": 14,
   "metadata": {},
   "outputs": [
    {
     "data": {
      "text/html": [
       "<div>\n",
       "<style scoped>\n",
       "    .dataframe tbody tr th:only-of-type {\n",
       "        vertical-align: middle;\n",
       "    }\n",
       "\n",
       "    .dataframe tbody tr th {\n",
       "        vertical-align: top;\n",
       "    }\n",
       "\n",
       "    .dataframe thead th {\n",
       "        text-align: right;\n",
       "    }\n",
       "</style>\n",
       "<table border=\"1\" class=\"dataframe\">\n",
       "  <thead>\n",
       "    <tr style=\"text-align: right;\">\n",
       "      <th></th>\n",
       "      <th>Ref_ID</th>\n",
       "      <th>Company_Name</th>\n",
       "      <th>File_Name</th>\n",
       "      <th>Shareable_Link</th>\n",
       "    </tr>\n",
       "  </thead>\n",
       "  <tbody>\n",
       "    <tr>\n",
       "      <th>0</th>\n",
       "      <td>1</td>\n",
       "      <td>CompanyA</td>\n",
       "      <td>[file1, file2]</td>\n",
       "      <td>[link1, link2]</td>\n",
       "    </tr>\n",
       "    <tr>\n",
       "      <th>1</th>\n",
       "      <td>2</td>\n",
       "      <td>CompanyB</td>\n",
       "      <td>[file3, file4]</td>\n",
       "      <td>[link3, link4]</td>\n",
       "    </tr>\n",
       "    <tr>\n",
       "      <th>2</th>\n",
       "      <td>3</td>\n",
       "      <td>CompanyC</td>\n",
       "      <td>[file5]</td>\n",
       "      <td>[link5]</td>\n",
       "    </tr>\n",
       "  </tbody>\n",
       "</table>\n",
       "</div>"
      ],
      "text/plain": [
       "   Ref_ID Company_Name       File_Name  Shareable_Link\n",
       "0       1     CompanyA  [file1, file2]  [link1, link2]\n",
       "1       2     CompanyB  [file3, file4]  [link3, link4]\n",
       "2       3     CompanyC         [file5]         [link5]"
      ]
     },
     "execution_count": 14,
     "metadata": {},
     "output_type": "execute_result"
    }
   ],
   "source": [
    "list_df = df.groupby(['Ref_ID','Company_Name']).agg({\n",
    "    'File_Name': lambda x:list(x),\n",
    "    'Shareable_Link': lambda x: list(x)\n",
    "    }).reset_index()\n",
    "list_df.head()"
   ]
  },
  {
   "cell_type": "code",
   "execution_count": 10,
   "metadata": {},
   "outputs": [
    {
     "name": "stdout",
     "output_type": "stream",
     "text": [
      "\n",
      "Aggregated DataFrame:\n",
      "   Ref_ID Company_Name    File_Name Shareable_Link\n",
      "0       1     CompanyA  file1,file2    link1,link2\n",
      "1       2     CompanyB  file3,file4    link3,link4\n",
      "2       3     CompanyC        file5          link5\n"
     ]
    }
   ],
   "source": [
    "# Group by 'Ref_ID' and 'Company_Name', then concatenate 'File_Name' and 'Shareable_Link'\n",
    "result = df.groupby(['Ref_ID', 'Company_Name']).agg({\n",
    "    'File_Name': lambda x: ','.join(x),\n",
    "    'Shareable_Link': lambda x: ','.join(x)\n",
    "}).reset_index()\n",
    "\n",
    "print(\"\\nAggregated DataFrame:\")\n",
    "print(result)"
   ]
  }
 ],
 "metadata": {
  "kernelspec": {
   "display_name": "Python 3",
   "language": "python",
   "name": "python3"
  },
  "language_info": {
   "codemirror_mode": {
    "name": "ipython",
    "version": 3
   },
   "file_extension": ".py",
   "mimetype": "text/x-python",
   "name": "python",
   "nbconvert_exporter": "python",
   "pygments_lexer": "ipython3",
   "version": "3.10.13"
  }
 },
 "nbformat": 4,
 "nbformat_minor": 2
}
