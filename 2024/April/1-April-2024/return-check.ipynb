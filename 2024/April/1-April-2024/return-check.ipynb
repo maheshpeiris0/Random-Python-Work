{
 "cells": [
  {
   "cell_type": "code",
   "execution_count": 3,
   "metadata": {},
   "outputs": [],
   "source": [
    "import pandas as pd\n",
    "import matplotlib.pyplot as plt\n"
   ]
  },
  {
   "cell_type": "code",
   "execution_count": 8,
   "metadata": {},
   "outputs": [],
   "source": [
    "df = pd.read_json('/workspaces/Random-Python-Work/2024/April/1-April-2024/CXAI.json',lines=True)"
   ]
  },
  {
   "cell_type": "code",
   "execution_count": 9,
   "metadata": {},
   "outputs": [
    {
     "data": {
      "text/html": [
       "<div>\n",
       "<style scoped>\n",
       "    .dataframe tbody tr th:only-of-type {\n",
       "        vertical-align: middle;\n",
       "    }\n",
       "\n",
       "    .dataframe tbody tr th {\n",
       "        vertical-align: top;\n",
       "    }\n",
       "\n",
       "    .dataframe thead th {\n",
       "        text-align: right;\n",
       "    }\n",
       "</style>\n",
       "<table border=\"1\" class=\"dataframe\">\n",
       "  <thead>\n",
       "    <tr style=\"text-align: right;\">\n",
       "      <th></th>\n",
       "      <th>event_type</th>\n",
       "      <th>symbol</th>\n",
       "      <th>volume</th>\n",
       "      <th>accumulated_volume</th>\n",
       "      <th>official_open_price</th>\n",
       "      <th>vwap</th>\n",
       "      <th>open</th>\n",
       "      <th>close</th>\n",
       "      <th>high</th>\n",
       "      <th>low</th>\n",
       "      <th>aggregate_vwap</th>\n",
       "      <th>average_size</th>\n",
       "      <th>start_timestamp</th>\n",
       "      <th>end_timestamp</th>\n",
       "      <th>otc</th>\n",
       "    </tr>\n",
       "  </thead>\n",
       "  <tbody>\n",
       "    <tr>\n",
       "      <th>0</th>\n",
       "      <td>A</td>\n",
       "      <td>CXAI</td>\n",
       "      <td>24019</td>\n",
       "      <td>30738</td>\n",
       "      <td>NaN</td>\n",
       "      <td>2.5876</td>\n",
       "      <td>2.45</td>\n",
       "      <td>2.75</td>\n",
       "      <td>2.75</td>\n",
       "      <td>2.45</td>\n",
       "      <td>2.5627</td>\n",
       "      <td>252</td>\n",
       "      <td>1711976824000</td>\n",
       "      <td>1711976825000</td>\n",
       "      <td>NaN</td>\n",
       "    </tr>\n",
       "    <tr>\n",
       "      <th>1</th>\n",
       "      <td>A</td>\n",
       "      <td>CXAI</td>\n",
       "      <td>2512</td>\n",
       "      <td>33250</td>\n",
       "      <td>NaN</td>\n",
       "      <td>2.7789</td>\n",
       "      <td>2.70</td>\n",
       "      <td>2.79</td>\n",
       "      <td>2.79</td>\n",
       "      <td>2.70</td>\n",
       "      <td>2.5790</td>\n",
       "      <td>147</td>\n",
       "      <td>1711976825000</td>\n",
       "      <td>1711976826000</td>\n",
       "      <td>NaN</td>\n",
       "    </tr>\n",
       "    <tr>\n",
       "      <th>2</th>\n",
       "      <td>A</td>\n",
       "      <td>CXAI</td>\n",
       "      <td>16297</td>\n",
       "      <td>49547</td>\n",
       "      <td>NaN</td>\n",
       "      <td>2.9194</td>\n",
       "      <td>2.81</td>\n",
       "      <td>2.97</td>\n",
       "      <td>2.97</td>\n",
       "      <td>2.81</td>\n",
       "      <td>2.6910</td>\n",
       "      <td>296</td>\n",
       "      <td>1711976826000</td>\n",
       "      <td>1711976827000</td>\n",
       "      <td>NaN</td>\n",
       "    </tr>\n",
       "    <tr>\n",
       "      <th>3</th>\n",
       "      <td>A</td>\n",
       "      <td>CXAI</td>\n",
       "      <td>3550</td>\n",
       "      <td>53097</td>\n",
       "      <td>NaN</td>\n",
       "      <td>2.9692</td>\n",
       "      <td>2.97</td>\n",
       "      <td>2.97</td>\n",
       "      <td>2.97</td>\n",
       "      <td>2.96</td>\n",
       "      <td>2.7096</td>\n",
       "      <td>355</td>\n",
       "      <td>1711976827000</td>\n",
       "      <td>1711976828000</td>\n",
       "      <td>NaN</td>\n",
       "    </tr>\n",
       "    <tr>\n",
       "      <th>4</th>\n",
       "      <td>A</td>\n",
       "      <td>CXAI</td>\n",
       "      <td>2277</td>\n",
       "      <td>55374</td>\n",
       "      <td>NaN</td>\n",
       "      <td>2.9772</td>\n",
       "      <td>2.97</td>\n",
       "      <td>2.99</td>\n",
       "      <td>2.99</td>\n",
       "      <td>2.97</td>\n",
       "      <td>2.7206</td>\n",
       "      <td>142</td>\n",
       "      <td>1711976828000</td>\n",
       "      <td>1711976829000</td>\n",
       "      <td>NaN</td>\n",
       "    </tr>\n",
       "  </tbody>\n",
       "</table>\n",
       "</div>"
      ],
      "text/plain": [
       "  event_type symbol  volume  accumulated_volume  official_open_price    vwap  \\\n",
       "0          A   CXAI   24019               30738                  NaN  2.5876   \n",
       "1          A   CXAI    2512               33250                  NaN  2.7789   \n",
       "2          A   CXAI   16297               49547                  NaN  2.9194   \n",
       "3          A   CXAI    3550               53097                  NaN  2.9692   \n",
       "4          A   CXAI    2277               55374                  NaN  2.9772   \n",
       "\n",
       "   open  close  high   low  aggregate_vwap  average_size  start_timestamp  \\\n",
       "0  2.45   2.75  2.75  2.45          2.5627           252    1711976824000   \n",
       "1  2.70   2.79  2.79  2.70          2.5790           147    1711976825000   \n",
       "2  2.81   2.97  2.97  2.81          2.6910           296    1711976826000   \n",
       "3  2.97   2.97  2.97  2.96          2.7096           355    1711976827000   \n",
       "4  2.97   2.99  2.99  2.97          2.7206           142    1711976828000   \n",
       "\n",
       "   end_timestamp  otc  \n",
       "0  1711976825000  NaN  \n",
       "1  1711976826000  NaN  \n",
       "2  1711976827000  NaN  \n",
       "3  1711976828000  NaN  \n",
       "4  1711976829000  NaN  "
      ]
     },
     "execution_count": 9,
     "metadata": {},
     "output_type": "execute_result"
    }
   ],
   "source": [
    "df.head()"
   ]
  },
  {
   "cell_type": "code",
   "execution_count": 10,
   "metadata": {},
   "outputs": [
    {
     "data": {
      "text/plain": [
       "<Axes: >"
      ]
     },
     "execution_count": 10,
     "metadata": {},
     "output_type": "execute_result"
    },
    {
     "data": {
      "image/png": "[encoded data removed]",
      "text/plain": [
       "<Figure size 640x480 with 1 Axes>"
      ]
     },
     "metadata": {},
     "output_type": "display_data"
    }
   ],
   "source": [
    "df['close'].plot()"
   ]
  },
  {
   "cell_type": "code",
   "execution_count": null,
   "metadata": {},
   "outputs": [],
   "source": []
  }
 ],
 "metadata": {
  "kernelspec": {
   "display_name": "Python 3",
   "language": "python",
   "name": "python3"
  },
  "language_info": {
   "codemirror_mode": {
    "name": "ipython",
    "version": 3
   },
   "file_extension": ".py",
   "mimetype": "text/x-python",
   "name": "python",
   "nbconvert_exporter": "python",
   "pygments_lexer": "ipython3",
   "version": "3.10.13"
  }
 },
 "nbformat": 4,
 "nbformat_minor": 2
}
