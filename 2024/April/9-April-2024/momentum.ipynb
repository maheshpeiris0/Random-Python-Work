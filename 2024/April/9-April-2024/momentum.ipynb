{
 "cells": [
  {
   "cell_type": "code",
   "execution_count": 10,
   "metadata": {},
   "outputs": [],
   "source": [
    "import pandas as pd\n",
    "import pytz\n",
    "import datetime\n",
    "import matplotlib.pyplot as plt"
   ]
  },
  {
   "cell_type": "code",
   "execution_count": 4,
   "metadata": {},
   "outputs": [
    {
     "data": {
      "text/html": [
       "<div>\n",
       "<style scoped>\n",
       "    .dataframe tbody tr th:only-of-type {\n",
       "        vertical-align: middle;\n",
       "    }\n",
       "\n",
       "    .dataframe tbody tr th {\n",
       "        vertical-align: top;\n",
       "    }\n",
       "\n",
       "    .dataframe thead th {\n",
       "        text-align: right;\n",
       "    }\n",
       "</style>\n",
       "<table border=\"1\" class=\"dataframe\">\n",
       "  <thead>\n",
       "    <tr style=\"text-align: right;\">\n",
       "      <th></th>\n",
       "      <th>event_type</th>\n",
       "      <th>symbol</th>\n",
       "      <th>volume</th>\n",
       "      <th>accumulated_volume</th>\n",
       "      <th>official_open_price</th>\n",
       "      <th>vwap</th>\n",
       "      <th>open</th>\n",
       "      <th>close</th>\n",
       "      <th>high</th>\n",
       "      <th>low</th>\n",
       "      <th>aggregate_vwap</th>\n",
       "      <th>average_size</th>\n",
       "      <th>start_timestamp</th>\n",
       "      <th>end_timestamp</th>\n",
       "      <th>otc</th>\n",
       "      <th>return</th>\n",
       "    </tr>\n",
       "  </thead>\n",
       "  <tbody>\n",
       "    <tr>\n",
       "      <th>0</th>\n",
       "      <td>A</td>\n",
       "      <td>MDIA</td>\n",
       "      <td>8646</td>\n",
       "      <td>2953666</td>\n",
       "      <td>3.28</td>\n",
       "      <td>3.9276</td>\n",
       "      <td>3.9001</td>\n",
       "      <td>3.9450</td>\n",
       "      <td>3.9450</td>\n",
       "      <td>3.9001</td>\n",
       "      <td>3.7384</td>\n",
       "      <td>247</td>\n",
       "      <td>1712669653000</td>\n",
       "      <td>1712669654000</td>\n",
       "      <td>NaN</td>\n",
       "      <td>0.202744</td>\n",
       "    </tr>\n",
       "    <tr>\n",
       "      <th>1</th>\n",
       "      <td>A</td>\n",
       "      <td>MDIA</td>\n",
       "      <td>983</td>\n",
       "      <td>2954649</td>\n",
       "      <td>3.28</td>\n",
       "      <td>3.9438</td>\n",
       "      <td>3.9455</td>\n",
       "      <td>3.9400</td>\n",
       "      <td>3.9455</td>\n",
       "      <td>3.9400</td>\n",
       "      <td>3.7385</td>\n",
       "      <td>109</td>\n",
       "      <td>1712669654000</td>\n",
       "      <td>1712669655000</td>\n",
       "      <td>NaN</td>\n",
       "      <td>0.201220</td>\n",
       "    </tr>\n",
       "    <tr>\n",
       "      <th>2</th>\n",
       "      <td>A</td>\n",
       "      <td>MDIA</td>\n",
       "      <td>4289</td>\n",
       "      <td>2958938</td>\n",
       "      <td>3.28</td>\n",
       "      <td>3.9464</td>\n",
       "      <td>3.9395</td>\n",
       "      <td>3.9465</td>\n",
       "      <td>3.9500</td>\n",
       "      <td>3.9395</td>\n",
       "      <td>3.7388</td>\n",
       "      <td>112</td>\n",
       "      <td>1712669655000</td>\n",
       "      <td>1712669656000</td>\n",
       "      <td>NaN</td>\n",
       "      <td>0.203201</td>\n",
       "    </tr>\n",
       "    <tr>\n",
       "      <th>3</th>\n",
       "      <td>A</td>\n",
       "      <td>MDIA</td>\n",
       "      <td>3524</td>\n",
       "      <td>2962462</td>\n",
       "      <td>3.28</td>\n",
       "      <td>3.9411</td>\n",
       "      <td>3.9400</td>\n",
       "      <td>3.9489</td>\n",
       "      <td>3.9489</td>\n",
       "      <td>3.9399</td>\n",
       "      <td>3.7390</td>\n",
       "      <td>271</td>\n",
       "      <td>1712669656000</td>\n",
       "      <td>1712669657000</td>\n",
       "      <td>NaN</td>\n",
       "      <td>0.203933</td>\n",
       "    </tr>\n",
       "    <tr>\n",
       "      <th>4</th>\n",
       "      <td>A</td>\n",
       "      <td>MDIA</td>\n",
       "      <td>6171</td>\n",
       "      <td>2968633</td>\n",
       "      <td>3.28</td>\n",
       "      <td>3.9425</td>\n",
       "      <td>3.9401</td>\n",
       "      <td>3.9401</td>\n",
       "      <td>3.9500</td>\n",
       "      <td>3.9400</td>\n",
       "      <td>3.7394</td>\n",
       "      <td>257</td>\n",
       "      <td>1712669657000</td>\n",
       "      <td>1712669658000</td>\n",
       "      <td>NaN</td>\n",
       "      <td>0.201250</td>\n",
       "    </tr>\n",
       "  </tbody>\n",
       "</table>\n",
       "</div>"
      ],
      "text/plain": [
       "  event_type symbol  volume  accumulated_volume  official_open_price    vwap  \\\n",
       "0          A   MDIA    8646             2953666                 3.28  3.9276   \n",
       "1          A   MDIA     983             2954649                 3.28  3.9438   \n",
       "2          A   MDIA    4289             2958938                 3.28  3.9464   \n",
       "3          A   MDIA    3524             2962462                 3.28  3.9411   \n",
       "4          A   MDIA    6171             2968633                 3.28  3.9425   \n",
       "\n",
       "     open   close    high     low  aggregate_vwap  average_size  \\\n",
       "0  3.9001  3.9450  3.9450  3.9001          3.7384           247   \n",
       "1  3.9455  3.9400  3.9455  3.9400          3.7385           109   \n",
       "2  3.9395  3.9465  3.9500  3.9395          3.7388           112   \n",
       "3  3.9400  3.9489  3.9489  3.9399          3.7390           271   \n",
       "4  3.9401  3.9401  3.9500  3.9400          3.7394           257   \n",
       "\n",
       "   start_timestamp  end_timestamp  otc    return  \n",
       "0    1712669653000  1712669654000  NaN  0.202744  \n",
       "1    1712669654000  1712669655000  NaN  0.201220  \n",
       "2    1712669655000  1712669656000  NaN  0.203201  \n",
       "3    1712669656000  1712669657000  NaN  0.203933  \n",
       "4    1712669657000  1712669658000  NaN  0.201250  "
      ]
     },
     "execution_count": 4,
     "metadata": {},
     "output_type": "execute_result"
    }
   ],
   "source": [
    "df =  pd.read_json('/workspaces/Random-Python-Work/2024/April/9-April-2024/MDIA.json',lines=True)    \n",
    "df.head()"
   ]
  },
  {
   "cell_type": "code",
   "execution_count": 8,
   "metadata": {},
   "outputs": [],
   "source": [
    "df['start_timestamp'] = pd.to_datetime(df['start_timestamp'], unit='ms',utc=True).dt.tz_convert('America/New_York')\n",
    "df['end_timestamp'] = pd.to_datetime(df['end_timestamp'], unit='ms',utc=True).dt.tz_convert('America/New_York')"
   ]
  },
  {
   "cell_type": "code",
   "execution_count": 9,
   "metadata": {},
   "outputs": [
    {
     "data": {
      "text/html": [
       "<div>\n",
       "<style scoped>\n",
       "    .dataframe tbody tr th:only-of-type {\n",
       "        vertical-align: middle;\n",
       "    }\n",
       "\n",
       "    .dataframe tbody tr th {\n",
       "        vertical-align: top;\n",
       "    }\n",
       "\n",
       "    .dataframe thead th {\n",
       "        text-align: right;\n",
       "    }\n",
       "</style>\n",
       "<table border=\"1\" class=\"dataframe\">\n",
       "  <thead>\n",
       "    <tr style=\"text-align: right;\">\n",
       "      <th></th>\n",
       "      <th>event_type</th>\n",
       "      <th>symbol</th>\n",
       "      <th>volume</th>\n",
       "      <th>accumulated_volume</th>\n",
       "      <th>official_open_price</th>\n",
       "      <th>vwap</th>\n",
       "      <th>open</th>\n",
       "      <th>close</th>\n",
       "      <th>high</th>\n",
       "      <th>low</th>\n",
       "      <th>aggregate_vwap</th>\n",
       "      <th>average_size</th>\n",
       "      <th>start_timestamp</th>\n",
       "      <th>end_timestamp</th>\n",
       "      <th>otc</th>\n",
       "      <th>return</th>\n",
       "    </tr>\n",
       "  </thead>\n",
       "  <tbody>\n",
       "    <tr>\n",
       "      <th>0</th>\n",
       "      <td>A</td>\n",
       "      <td>MDIA</td>\n",
       "      <td>8646</td>\n",
       "      <td>2953666</td>\n",
       "      <td>3.28</td>\n",
       "      <td>3.9276</td>\n",
       "      <td>3.9001</td>\n",
       "      <td>3.9450</td>\n",
       "      <td>3.9450</td>\n",
       "      <td>3.9001</td>\n",
       "      <td>3.7384</td>\n",
       "      <td>247</td>\n",
       "      <td>2024-04-09 09:34:13-04:00</td>\n",
       "      <td>2024-04-09 09:34:14-04:00</td>\n",
       "      <td>NaN</td>\n",
       "      <td>0.202744</td>\n",
       "    </tr>\n",
       "    <tr>\n",
       "      <th>1</th>\n",
       "      <td>A</td>\n",
       "      <td>MDIA</td>\n",
       "      <td>983</td>\n",
       "      <td>2954649</td>\n",
       "      <td>3.28</td>\n",
       "      <td>3.9438</td>\n",
       "      <td>3.9455</td>\n",
       "      <td>3.9400</td>\n",
       "      <td>3.9455</td>\n",
       "      <td>3.9400</td>\n",
       "      <td>3.7385</td>\n",
       "      <td>109</td>\n",
       "      <td>2024-04-09 09:34:14-04:00</td>\n",
       "      <td>2024-04-09 09:34:15-04:00</td>\n",
       "      <td>NaN</td>\n",
       "      <td>0.201220</td>\n",
       "    </tr>\n",
       "    <tr>\n",
       "      <th>2</th>\n",
       "      <td>A</td>\n",
       "      <td>MDIA</td>\n",
       "      <td>4289</td>\n",
       "      <td>2958938</td>\n",
       "      <td>3.28</td>\n",
       "      <td>3.9464</td>\n",
       "      <td>3.9395</td>\n",
       "      <td>3.9465</td>\n",
       "      <td>3.9500</td>\n",
       "      <td>3.9395</td>\n",
       "      <td>3.7388</td>\n",
       "      <td>112</td>\n",
       "      <td>2024-04-09 09:34:15-04:00</td>\n",
       "      <td>2024-04-09 09:34:16-04:00</td>\n",
       "      <td>NaN</td>\n",
       "      <td>0.203201</td>\n",
       "    </tr>\n",
       "    <tr>\n",
       "      <th>3</th>\n",
       "      <td>A</td>\n",
       "      <td>MDIA</td>\n",
       "      <td>3524</td>\n",
       "      <td>2962462</td>\n",
       "      <td>3.28</td>\n",
       "      <td>3.9411</td>\n",
       "      <td>3.9400</td>\n",
       "      <td>3.9489</td>\n",
       "      <td>3.9489</td>\n",
       "      <td>3.9399</td>\n",
       "      <td>3.7390</td>\n",
       "      <td>271</td>\n",
       "      <td>2024-04-09 09:34:16-04:00</td>\n",
       "      <td>2024-04-09 09:34:17-04:00</td>\n",
       "      <td>NaN</td>\n",
       "      <td>0.203933</td>\n",
       "    </tr>\n",
       "    <tr>\n",
       "      <th>4</th>\n",
       "      <td>A</td>\n",
       "      <td>MDIA</td>\n",
       "      <td>6171</td>\n",
       "      <td>2968633</td>\n",
       "      <td>3.28</td>\n",
       "      <td>3.9425</td>\n",
       "      <td>3.9401</td>\n",
       "      <td>3.9401</td>\n",
       "      <td>3.9500</td>\n",
       "      <td>3.9400</td>\n",
       "      <td>3.7394</td>\n",
       "      <td>257</td>\n",
       "      <td>2024-04-09 09:34:17-04:00</td>\n",
       "      <td>2024-04-09 09:34:18-04:00</td>\n",
       "      <td>NaN</td>\n",
       "      <td>0.201250</td>\n",
       "    </tr>\n",
       "  </tbody>\n",
       "</table>\n",
       "</div>"
      ],
      "text/plain": [
       "  event_type symbol  volume  accumulated_volume  official_open_price    vwap  \\\n",
       "0          A   MDIA    8646             2953666                 3.28  3.9276   \n",
       "1          A   MDIA     983             2954649                 3.28  3.9438   \n",
       "2          A   MDIA    4289             2958938                 3.28  3.9464   \n",
       "3          A   MDIA    3524             2962462                 3.28  3.9411   \n",
       "4          A   MDIA    6171             2968633                 3.28  3.9425   \n",
       "\n",
       "     open   close    high     low  aggregate_vwap  average_size  \\\n",
       "0  3.9001  3.9450  3.9450  3.9001          3.7384           247   \n",
       "1  3.9455  3.9400  3.9455  3.9400          3.7385           109   \n",
       "2  3.9395  3.9465  3.9500  3.9395          3.7388           112   \n",
       "3  3.9400  3.9489  3.9489  3.9399          3.7390           271   \n",
       "4  3.9401  3.9401  3.9500  3.9400          3.7394           257   \n",
       "\n",
       "            start_timestamp             end_timestamp  otc    return  \n",
       "0 2024-04-09 09:34:13-04:00 2024-04-09 09:34:14-04:00  NaN  0.202744  \n",
       "1 2024-04-09 09:34:14-04:00 2024-04-09 09:34:15-04:00  NaN  0.201220  \n",
       "2 2024-04-09 09:34:15-04:00 2024-04-09 09:34:16-04:00  NaN  0.203201  \n",
       "3 2024-04-09 09:34:16-04:00 2024-04-09 09:34:17-04:00  NaN  0.203933  \n",
       "4 2024-04-09 09:34:17-04:00 2024-04-09 09:34:18-04:00  NaN  0.201250  "
      ]
     },
     "execution_count": 9,
     "metadata": {},
     "output_type": "execute_result"
    }
   ],
   "source": [
    "df.head()"
   ]
  },
  {
   "cell_type": "code",
   "execution_count": 11,
   "metadata": {},
   "outputs": [
    {
     "data": {
      "text/plain": [
       "<Axes: >"
      ]
     },
     "execution_count": 11,
     "metadata": {},
     "output_type": "execute_result"
    },
    {
     "data": {
      "image/png": "[encoded data removed]",
      "text/plain": [
       "<Figure size 640x480 with 1 Axes>"
      ]
     },
     "metadata": {},
     "output_type": "display_data"
    }
   ],
   "source": [
    "df['close'].plot()"
   ]
  },
  {
   "cell_type": "code",
   "execution_count": 13,
   "metadata": {},
   "outputs": [
    {
     "data": {
      "text/plain": [
       "0             NaN\n",
       "1       -0.001267\n",
       "2        0.001650\n",
       "3        0.000608\n",
       "4       -0.002228\n",
       "           ...   \n",
       "10124   -0.000144\n",
       "10125    0.002398\n",
       "10126   -0.005359\n",
       "10127   -0.001828\n",
       "10128    0.000506\n",
       "Name: close, Length: 10129, dtype: float64"
      ]
     },
     "execution_count": 13,
     "metadata": {},
     "output_type": "execute_result"
    }
   ],
   "source": [
    "df['close'].pct_change()"
   ]
  },
  {
   "cell_type": "code",
   "execution_count": 19,
   "metadata": {},
   "outputs": [],
   "source": [
    "dataset =df[['symbol','start_timestamp','close']]"
   ]
  },
  {
   "cell_type": "code",
   "execution_count": 20,
   "metadata": {},
   "outputs": [
    {
     "name": "stderr",
     "output_type": "stream",
     "text": [
      "/tmp/ipykernel_10570/3155829289.py:1: SettingWithCopyWarning: \n",
      "A value is trying to be set on a copy of a slice from a DataFrame.\n",
      "Try using .loc[row_indexer,col_indexer] = value instead\n",
      "\n",
      "See the caveats in the documentation: https://pandas.pydata.org/pandas-docs/stable/user_guide/indexing.html#returning-a-view-versus-a-copy\n",
      "  dataset['pct_change'] = dataset['close'].pct_change()\n"
     ]
    }
   ],
   "source": [
    "dataset['pct_change'] = dataset['close'].pct_change()"
   ]
  },
  {
   "cell_type": "code",
   "execution_count": 22,
   "metadata": {},
   "outputs": [
    {
     "name": "stderr",
     "output_type": "stream",
     "text": [
      "/tmp/ipykernel_10570/2639109627.py:1: SettingWithCopyWarning: \n",
      "A value is trying to be set on a copy of a slice from a DataFrame\n",
      "\n",
      "See the caveats in the documentation: https://pandas.pydata.org/pandas-docs/stable/user_guide/indexing.html#returning-a-view-versus-a-copy\n",
      "  dataset.dropna(inplace=True)\n"
     ]
    }
   ],
   "source": [
    "dataset.dropna(inplace=True)"
   ]
  },
  {
   "cell_type": "code",
   "execution_count": 23,
   "metadata": {},
   "outputs": [],
   "source": [
    "dataset.reset_index(drop=True, inplace=True)"
   ]
  },
  {
   "cell_type": "code",
   "execution_count": 24,
   "metadata": {},
   "outputs": [
    {
     "data": {
      "text/html": [
       "<div>\n",
       "<style scoped>\n",
       "    .dataframe tbody tr th:only-of-type {\n",
       "        vertical-align: middle;\n",
       "    }\n",
       "\n",
       "    .dataframe tbody tr th {\n",
       "        vertical-align: top;\n",
       "    }\n",
       "\n",
       "    .dataframe thead th {\n",
       "        text-align: right;\n",
       "    }\n",
       "</style>\n",
       "<table border=\"1\" class=\"dataframe\">\n",
       "  <thead>\n",
       "    <tr style=\"text-align: right;\">\n",
       "      <th></th>\n",
       "      <th>symbol</th>\n",
       "      <th>start_timestamp</th>\n",
       "      <th>close</th>\n",
       "      <th>pct_change</th>\n",
       "    </tr>\n",
       "  </thead>\n",
       "  <tbody>\n",
       "    <tr>\n",
       "      <th>0</th>\n",
       "      <td>MDIA</td>\n",
       "      <td>2024-04-09 09:34:14-04:00</td>\n",
       "      <td>3.9400</td>\n",
       "      <td>-0.001267</td>\n",
       "    </tr>\n",
       "    <tr>\n",
       "      <th>1</th>\n",
       "      <td>MDIA</td>\n",
       "      <td>2024-04-09 09:34:15-04:00</td>\n",
       "      <td>3.9465</td>\n",
       "      <td>0.001650</td>\n",
       "    </tr>\n",
       "    <tr>\n",
       "      <th>2</th>\n",
       "      <td>MDIA</td>\n",
       "      <td>2024-04-09 09:34:16-04:00</td>\n",
       "      <td>3.9489</td>\n",
       "      <td>0.000608</td>\n",
       "    </tr>\n",
       "    <tr>\n",
       "      <th>3</th>\n",
       "      <td>MDIA</td>\n",
       "      <td>2024-04-09 09:34:17-04:00</td>\n",
       "      <td>3.9401</td>\n",
       "      <td>-0.002228</td>\n",
       "    </tr>\n",
       "    <tr>\n",
       "      <th>4</th>\n",
       "      <td>MDIA</td>\n",
       "      <td>2024-04-09 09:34:18-04:00</td>\n",
       "      <td>3.9400</td>\n",
       "      <td>-0.000025</td>\n",
       "    </tr>\n",
       "  </tbody>\n",
       "</table>\n",
       "</div>"
      ],
      "text/plain": [
       "  symbol           start_timestamp   close  pct_change\n",
       "0   MDIA 2024-04-09 09:34:14-04:00  3.9400   -0.001267\n",
       "1   MDIA 2024-04-09 09:34:15-04:00  3.9465    0.001650\n",
       "2   MDIA 2024-04-09 09:34:16-04:00  3.9489    0.000608\n",
       "3   MDIA 2024-04-09 09:34:17-04:00  3.9401   -0.002228\n",
       "4   MDIA 2024-04-09 09:34:18-04:00  3.9400   -0.000025"
      ]
     },
     "execution_count": 24,
     "metadata": {},
     "output_type": "execute_result"
    }
   ],
   "source": [
    "dataset.head()"
   ]
  },
  {
   "cell_type": "code",
   "execution_count": null,
   "metadata": {},
   "outputs": [],
   "source": []
  }
 ],
 "metadata": {
  "kernelspec": {
   "display_name": "Python 3",
   "language": "python",
   "name": "python3"
  },
  "language_info": {
   "codemirror_mode": {
    "name": "ipython",
    "version": 3
   },
   "file_extension": ".py",
   "mimetype": "text/x-python",
   "name": "python",
   "nbconvert_exporter": "python",
   "pygments_lexer": "ipython3",
   "version": "3.10.13"
  }
 },
 "nbformat": 4,
 "nbformat_minor": 2
}
