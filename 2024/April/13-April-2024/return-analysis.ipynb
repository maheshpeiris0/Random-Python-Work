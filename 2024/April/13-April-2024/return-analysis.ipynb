{
 "cells": [
  {
   "cell_type": "code",
   "execution_count": 1,
   "metadata": {},
   "outputs": [],
   "source": [
    "import pandas as pd"
   ]
  },
  {
   "cell_type": "code",
   "execution_count": 12,
   "metadata": {},
   "outputs": [],
   "source": [
    "df=pd.read_parquet('/workspaces/Random-Python-Work/2024/April/13-April-2024/shareprice.parquet')"
   ]
  },
  {
   "cell_type": "code",
   "execution_count": 13,
   "metadata": {},
   "outputs": [
    {
     "data": {
      "text/html": [
       "<div>\n",
       "<style scoped>\n",
       "    .dataframe tbody tr th:only-of-type {\n",
       "        vertical-align: middle;\n",
       "    }\n",
       "\n",
       "    .dataframe tbody tr th {\n",
       "        vertical-align: top;\n",
       "    }\n",
       "\n",
       "    .dataframe thead th {\n",
       "        text-align: right;\n",
       "    }\n",
       "</style>\n",
       "<table border=\"1\" class=\"dataframe\">\n",
       "  <thead>\n",
       "    <tr style=\"text-align: right;\">\n",
       "      <th></th>\n",
       "      <th>Ticker</th>\n",
       "      <th>day_volume</th>\n",
       "      <th>day_vw</th>\n",
       "      <th>day_open</th>\n",
       "      <th>day_close</th>\n",
       "      <th>day_high</th>\n",
       "      <th>day_low</th>\n",
       "      <th>otc</th>\n",
       "      <th>datetime_est</th>\n",
       "      <th>pct_change</th>\n",
       "      <th>pct_change_3</th>\n",
       "      <th>pct_change_7</th>\n",
       "      <th>sum_3_day_pct_change</th>\n",
       "      <th>sum_7_day_pct_change</th>\n",
       "    </tr>\n",
       "  </thead>\n",
       "  <tbody>\n",
       "    <tr>\n",
       "      <th>0</th>\n",
       "      <td>A</td>\n",
       "      <td>1051655.0</td>\n",
       "      <td>144.28330</td>\n",
       "      <td>144.4200</td>\n",
       "      <td>144.16000</td>\n",
       "      <td>145.0600</td>\n",
       "      <td>143.5500</td>\n",
       "      <td>None</td>\n",
       "      <td>2024-04-10 16:00:00</td>\n",
       "      <td>-0.021981</td>\n",
       "      <td>0.000278</td>\n",
       "      <td>-0.009618</td>\n",
       "      <td>-0.085205</td>\n",
       "      <td>-0.113748</td>\n",
       "    </tr>\n",
       "    <tr>\n",
       "      <th>1</th>\n",
       "      <td>AA</td>\n",
       "      <td>5432354.0</td>\n",
       "      <td>36.15460</td>\n",
       "      <td>35.7100</td>\n",
       "      <td>36.19000</td>\n",
       "      <td>36.6600</td>\n",
       "      <td>35.3000</td>\n",
       "      <td>None</td>\n",
       "      <td>2024-04-10 16:00:00</td>\n",
       "      <td>-0.017110</td>\n",
       "      <td>-0.008221</td>\n",
       "      <td>0.063786</td>\n",
       "      <td>-0.023739</td>\n",
       "      <td>-0.006078</td>\n",
       "    </tr>\n",
       "    <tr>\n",
       "      <th>2</th>\n",
       "      <td>AAA</td>\n",
       "      <td>2739.0</td>\n",
       "      <td>25.07700</td>\n",
       "      <td>25.0700</td>\n",
       "      <td>25.11000</td>\n",
       "      <td>25.1500</td>\n",
       "      <td>25.0603</td>\n",
       "      <td>None</td>\n",
       "      <td>2024-04-10 16:00:00</td>\n",
       "      <td>0.001596</td>\n",
       "      <td>0.000000</td>\n",
       "      <td>0.002796</td>\n",
       "      <td>-0.026482</td>\n",
       "      <td>-0.035810</td>\n",
       "    </tr>\n",
       "    <tr>\n",
       "      <th>3</th>\n",
       "      <td>AAAU</td>\n",
       "      <td>5681509.0</td>\n",
       "      <td>23.14230</td>\n",
       "      <td>23.0300</td>\n",
       "      <td>23.05500</td>\n",
       "      <td>23.2900</td>\n",
       "      <td>22.9600</td>\n",
       "      <td>None</td>\n",
       "      <td>2024-04-10 16:00:00</td>\n",
       "      <td>-0.009452</td>\n",
       "      <td>0.002391</td>\n",
       "      <td>0.037579</td>\n",
       "      <td>-0.082529</td>\n",
       "      <td>-0.135592</td>\n",
       "    </tr>\n",
       "    <tr>\n",
       "      <th>4</th>\n",
       "      <td>AABB</td>\n",
       "      <td>4396775.0</td>\n",
       "      <td>0.01961</td>\n",
       "      <td>0.0196</td>\n",
       "      <td>0.01902</td>\n",
       "      <td>0.0208</td>\n",
       "      <td>0.0187</td>\n",
       "      <td>True</td>\n",
       "      <td>2024-04-10 16:00:00</td>\n",
       "      <td>-0.029592</td>\n",
       "      <td>-0.076699</td>\n",
       "      <td>-0.046617</td>\n",
       "      <td>-0.090614</td>\n",
       "      <td>-0.181371</td>\n",
       "    </tr>\n",
       "  </tbody>\n",
       "</table>\n",
       "</div>"
      ],
      "text/plain": [
       "  Ticker  day_volume     day_vw  day_open  day_close  day_high   day_low  \\\n",
       "0      A   1051655.0  144.28330  144.4200  144.16000  145.0600  143.5500   \n",
       "1     AA   5432354.0   36.15460   35.7100   36.19000   36.6600   35.3000   \n",
       "2    AAA      2739.0   25.07700   25.0700   25.11000   25.1500   25.0603   \n",
       "3   AAAU   5681509.0   23.14230   23.0300   23.05500   23.2900   22.9600   \n",
       "4   AABB   4396775.0    0.01961    0.0196    0.01902    0.0208    0.0187   \n",
       "\n",
       "    otc        datetime_est  pct_change  pct_change_3  pct_change_7  \\\n",
       "0  None 2024-04-10 16:00:00   -0.021981      0.000278     -0.009618   \n",
       "1  None 2024-04-10 16:00:00   -0.017110     -0.008221      0.063786   \n",
       "2  None 2024-04-10 16:00:00    0.001596      0.000000      0.002796   \n",
       "3  None 2024-04-10 16:00:00   -0.009452      0.002391      0.037579   \n",
       "4  True 2024-04-10 16:00:00   -0.029592     -0.076699     -0.046617   \n",
       "\n",
       "   sum_3_day_pct_change  sum_7_day_pct_change  \n",
       "0             -0.085205             -0.113748  \n",
       "1             -0.023739             -0.006078  \n",
       "2             -0.026482             -0.035810  \n",
       "3             -0.082529             -0.135592  \n",
       "4             -0.090614             -0.181371  "
      ]
     },
     "execution_count": 13,
     "metadata": {},
     "output_type": "execute_result"
    }
   ],
   "source": [
    "df.head()"
   ]
  },
  {
   "cell_type": "code",
   "execution_count": 16,
   "metadata": {},
   "outputs": [],
   "source": [
    "df['Date'] = df['datetime_est'].dt.date"
   ]
  },
  {
   "cell_type": "code",
   "execution_count": 23,
   "metadata": {},
   "outputs": [
    {
     "data": {
      "text/html": [
       "<div>\n",
       "<style scoped>\n",
       "    .dataframe tbody tr th:only-of-type {\n",
       "        vertical-align: middle;\n",
       "    }\n",
       "\n",
       "    .dataframe tbody tr th {\n",
       "        vertical-align: top;\n",
       "    }\n",
       "\n",
       "    .dataframe thead th {\n",
       "        text-align: right;\n",
       "    }\n",
       "</style>\n",
       "<table border=\"1\" class=\"dataframe\">\n",
       "  <thead>\n",
       "    <tr style=\"text-align: right;\">\n",
       "      <th></th>\n",
       "      <th>Ticker</th>\n",
       "      <th>day_volume</th>\n",
       "      <th>day_vw</th>\n",
       "      <th>day_open</th>\n",
       "      <th>day_close</th>\n",
       "      <th>day_high</th>\n",
       "      <th>day_low</th>\n",
       "      <th>otc</th>\n",
       "      <th>datetime_est</th>\n",
       "      <th>pct_change</th>\n",
       "      <th>pct_change_3</th>\n",
       "      <th>pct_change_7</th>\n",
       "      <th>sum_3_day_pct_change</th>\n",
       "      <th>sum_7_day_pct_change</th>\n",
       "      <th>Date</th>\n",
       "    </tr>\n",
       "  </thead>\n",
       "  <tbody>\n",
       "    <tr>\n",
       "      <th>0</th>\n",
       "      <td>A</td>\n",
       "      <td>1051655.0</td>\n",
       "      <td>144.28330</td>\n",
       "      <td>144.4200</td>\n",
       "      <td>144.16000</td>\n",
       "      <td>145.0600</td>\n",
       "      <td>143.5500</td>\n",
       "      <td>None</td>\n",
       "      <td>2024-04-10 16:00:00</td>\n",
       "      <td>-0.021981</td>\n",
       "      <td>0.000278</td>\n",
       "      <td>-0.009618</td>\n",
       "      <td>-0.085205</td>\n",
       "      <td>-0.113748</td>\n",
       "      <td>2024-04-10</td>\n",
       "    </tr>\n",
       "    <tr>\n",
       "      <th>1</th>\n",
       "      <td>AA</td>\n",
       "      <td>5432354.0</td>\n",
       "      <td>36.15460</td>\n",
       "      <td>35.7100</td>\n",
       "      <td>36.19000</td>\n",
       "      <td>36.6600</td>\n",
       "      <td>35.3000</td>\n",
       "      <td>None</td>\n",
       "      <td>2024-04-10 16:00:00</td>\n",
       "      <td>-0.017110</td>\n",
       "      <td>-0.008221</td>\n",
       "      <td>0.063786</td>\n",
       "      <td>-0.023739</td>\n",
       "      <td>-0.006078</td>\n",
       "      <td>2024-04-10</td>\n",
       "    </tr>\n",
       "    <tr>\n",
       "      <th>2</th>\n",
       "      <td>AAA</td>\n",
       "      <td>2739.0</td>\n",
       "      <td>25.07700</td>\n",
       "      <td>25.0700</td>\n",
       "      <td>25.11000</td>\n",
       "      <td>25.1500</td>\n",
       "      <td>25.0603</td>\n",
       "      <td>None</td>\n",
       "      <td>2024-04-10 16:00:00</td>\n",
       "      <td>0.001596</td>\n",
       "      <td>0.000000</td>\n",
       "      <td>0.002796</td>\n",
       "      <td>-0.026482</td>\n",
       "      <td>-0.035810</td>\n",
       "      <td>2024-04-10</td>\n",
       "    </tr>\n",
       "    <tr>\n",
       "      <th>3</th>\n",
       "      <td>AAAU</td>\n",
       "      <td>5681509.0</td>\n",
       "      <td>23.14230</td>\n",
       "      <td>23.0300</td>\n",
       "      <td>23.05500</td>\n",
       "      <td>23.2900</td>\n",
       "      <td>22.9600</td>\n",
       "      <td>None</td>\n",
       "      <td>2024-04-10 16:00:00</td>\n",
       "      <td>-0.009452</td>\n",
       "      <td>0.002391</td>\n",
       "      <td>0.037579</td>\n",
       "      <td>-0.082529</td>\n",
       "      <td>-0.135592</td>\n",
       "      <td>2024-04-10</td>\n",
       "    </tr>\n",
       "    <tr>\n",
       "      <th>4</th>\n",
       "      <td>AABB</td>\n",
       "      <td>4396775.0</td>\n",
       "      <td>0.01961</td>\n",
       "      <td>0.0196</td>\n",
       "      <td>0.01902</td>\n",
       "      <td>0.0208</td>\n",
       "      <td>0.0187</td>\n",
       "      <td>True</td>\n",
       "      <td>2024-04-10 16:00:00</td>\n",
       "      <td>-0.029592</td>\n",
       "      <td>-0.076699</td>\n",
       "      <td>-0.046617</td>\n",
       "      <td>-0.090614</td>\n",
       "      <td>-0.181371</td>\n",
       "      <td>2024-04-10</td>\n",
       "    </tr>\n",
       "  </tbody>\n",
       "</table>\n",
       "</div>"
      ],
      "text/plain": [
       "  Ticker  day_volume     day_vw  day_open  day_close  day_high   day_low  \\\n",
       "0      A   1051655.0  144.28330  144.4200  144.16000  145.0600  143.5500   \n",
       "1     AA   5432354.0   36.15460   35.7100   36.19000   36.6600   35.3000   \n",
       "2    AAA      2739.0   25.07700   25.0700   25.11000   25.1500   25.0603   \n",
       "3   AAAU   5681509.0   23.14230   23.0300   23.05500   23.2900   22.9600   \n",
       "4   AABB   4396775.0    0.01961    0.0196    0.01902    0.0208    0.0187   \n",
       "\n",
       "    otc        datetime_est  pct_change  pct_change_3  pct_change_7  \\\n",
       "0  None 2024-04-10 16:00:00   -0.021981      0.000278     -0.009618   \n",
       "1  None 2024-04-10 16:00:00   -0.017110     -0.008221      0.063786   \n",
       "2  None 2024-04-10 16:00:00    0.001596      0.000000      0.002796   \n",
       "3  None 2024-04-10 16:00:00   -0.009452      0.002391      0.037579   \n",
       "4  True 2024-04-10 16:00:00   -0.029592     -0.076699     -0.046617   \n",
       "\n",
       "   sum_3_day_pct_change  sum_7_day_pct_change        Date  \n",
       "0             -0.085205             -0.113748  2024-04-10  \n",
       "1             -0.023739             -0.006078  2024-04-10  \n",
       "2             -0.026482             -0.035810  2024-04-10  \n",
       "3             -0.082529             -0.135592  2024-04-10  \n",
       "4             -0.090614             -0.181371  2024-04-10  "
      ]
     },
     "execution_count": 23,
     "metadata": {},
     "output_type": "execute_result"
    }
   ],
   "source": [
    "df.head()"
   ]
  },
  {
   "cell_type": "code",
   "execution_count": 26,
   "metadata": {},
   "outputs": [],
   "source": [
    "df['Date'] = pd.to_datetime(df['Date'])"
   ]
  },
  {
   "cell_type": "code",
   "execution_count": 28,
   "metadata": {},
   "outputs": [
    {
     "data": {
      "text/plain": [
       "<DatetimeArray>\n",
       "['2024-04-10 00:00:00', '2024-04-01 00:00:00', '2024-04-05 00:00:00',\n",
       " '2024-04-08 00:00:00', '2024-04-09 00:00:00', '2024-03-26 00:00:00',\n",
       " '2024-04-03 00:00:00', '2024-03-22 00:00:00', '2024-04-04 00:00:00',\n",
       " '2024-03-28 00:00:00', '2024-04-02 00:00:00', '2024-03-20 00:00:00',\n",
       " '2024-03-18 00:00:00', '2024-03-27 00:00:00', '2024-03-13 00:00:00',\n",
       " '2024-03-15 00:00:00', '2024-03-12 00:00:00', '2024-03-21 00:00:00',\n",
       " '2024-03-14 00:00:00', '2024-03-25 00:00:00', '2024-03-19 00:00:00']\n",
       "Length: 21, dtype: datetime64[ns]"
      ]
     },
     "execution_count": 28,
     "metadata": {},
     "output_type": "execute_result"
    }
   ],
   "source": [
    "df['Date'].unique()"
   ]
  },
  {
   "cell_type": "code",
   "execution_count": 30,
   "metadata": {},
   "outputs": [],
   "source": [
    "ten_data=df.loc[df['Date'] == \"2024-04-10\"]"
   ]
  },
  {
   "cell_type": "code",
   "execution_count": 31,
   "metadata": {},
   "outputs": [],
   "source": [
    "ten_data.reset_index(drop=True, inplace=True)"
   ]
  },
  {
   "cell_type": "code",
   "execution_count": 32,
   "metadata": {},
   "outputs": [
    {
     "data": {
      "text/plain": [
       "(14563, 15)"
      ]
     },
     "execution_count": 32,
     "metadata": {},
     "output_type": "execute_result"
    }
   ],
   "source": [
    "ten_data.shape"
   ]
  },
  {
   "cell_type": "code",
   "execution_count": 33,
   "metadata": {},
   "outputs": [],
   "source": [
    "eight_data=df.loc[df['Date'] == \"2024-04-08\"]"
   ]
  },
  {
   "cell_type": "code",
   "execution_count": 34,
   "metadata": {},
   "outputs": [],
   "source": [
    "eight_data.reset_index(drop=True, inplace=True)"
   ]
  },
  {
   "cell_type": "code",
   "execution_count": 35,
   "metadata": {},
   "outputs": [
    {
     "data": {
      "text/plain": [
       "(726, 15)"
      ]
     },
     "execution_count": 35,
     "metadata": {},
     "output_type": "execute_result"
    }
   ],
   "source": [
    "eight_data.shape"
   ]
  },
  {
   "cell_type": "code",
   "execution_count": null,
   "metadata": {},
   "outputs": [],
   "source": []
  }
 ],
 "metadata": {
  "kernelspec": {
   "display_name": "Python 3",
   "language": "python",
   "name": "python3"
  },
  "language_info": {
   "codemirror_mode": {
    "name": "ipython",
    "version": 3
   },
   "file_extension": ".py",
   "mimetype": "text/x-python",
   "name": "python",
   "nbconvert_exporter": "python",
   "pygments_lexer": "ipython3",
   "version": "3.10.13"
  }
 },
 "nbformat": 4,
 "nbformat_minor": 2
}
